{
  "nbformat": 4,
  "nbformat_minor": 0,
  "metadata": {
    "colab": {
      "provenance": [],
      "authorship_tag": "ABX9TyOtATYRK9Cow3fnUMvhqGJy",
      "include_colab_link": true
    },
    "kernelspec": {
      "name": "python3",
      "display_name": "Python 3"
    },
    "language_info": {
      "name": "python"
    }
  },
  "cells": [
    {
      "cell_type": "markdown",
      "metadata": {
        "id": "view-in-github",
        "colab_type": "text"
      },
      "source": [
        "<a href=\"https://colab.research.google.com/github/Sandrieli13/Bookshelf-Web-Application/blob/main/Copy_of_Lab1_py.ipynb\" target=\"_parent\"><img src=\"https://colab.research.google.com/assets/colab-badge.svg\" alt=\"Open In Colab\"/></a>"
      ]
    },
    {
      "cell_type": "code",
      "execution_count": null,
      "metadata": {
        "colab": {
          "base_uri": "https://localhost:8080/"
        },
        "id": "H2PLwOvQbBoz",
        "outputId": "e09ac3aa-0902-4bf4-bfa0-3700ce25f5e5"
      },
      "outputs": [
        {
          "output_type": "stream",
          "name": "stdout",
          "text": [
            "Enter first number: 6\n",
            "Enter second number: 8\n",
            "14\n",
            "-2\n",
            "48\n",
            "0.75\n",
            "6\n"
          ]
        }
      ],
      "source": [
        "n1 = int(input('Enter first number: '))\n",
        "n2 = int(input('Enter second number: '))\n",
        "\n",
        "print(n1+n2)\n",
        "print(n1-n2)\n",
        "print(n1*n2)\n",
        "print(n1/n2)\n",
        "print(n1%n2)"
      ]
    }
  ]
}